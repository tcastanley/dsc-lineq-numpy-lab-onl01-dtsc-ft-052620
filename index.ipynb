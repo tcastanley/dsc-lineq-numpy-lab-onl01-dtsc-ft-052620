{
 "cells": [
  {
   "cell_type": "markdown",
   "metadata": {},
   "source": [
    "# Solving Systems of Linear Equations with NumPy - Lab\n",
    "\n",
    "## Introduction \n",
    "\n",
    "Now you've gathered all the required skills needed to solve systems of linear equations. You saw why there was a need to calculate inverses of matrices, followed by matrix multiplication to figure out the values of unknown variables. \n",
    "\n",
    "The exercises in this lab present some problems that can be converted into a system of linear equations. \n",
    "\n",
    "## Objectives\n",
    "You will be able to:\n",
    "\n",
    "- Use matrix algebra and NumPy to solve a system of linear equations given a real-life example \n",
    "- Use NumPy's linear algebra solver to solve for systems of linear equations\n",
    "\n",
    "## Exercise 1\n",
    "\n",
    "A coffee shop is having a sale on coffee and tea. \n",
    "\n",
    "On day 1, 29 bags of coffee and 41 bags of tea were sold, for a total of 490 dollars.\n",
    "\n",
    "On day 2, they sold 23 bags of coffee and 41 bags of tea, for which customers paid a total of 448 dollars.  \n",
    "\n",
    "How much does each bag cost?"
   ]
  },
  {
   "cell_type": "code",
   "execution_count": 18,
   "metadata": {
    "ExecuteTime": {
     "end_time": "2020-08-04T19:26:14.176925Z",
     "start_time": "2020-08-04T19:26:14.168946Z"
    }
   },
   "outputs": [
    {
     "name": "stdout",
     "output_type": "stream",
     "text": [
      "[[29 41]\n",
      " [23 41]]\n",
      "[[490 448]]\n",
      "[[ 0.16666667 -0.16666667]\n",
      " [-0.09349593  0.11788618]]\n",
      "[[7.]\n",
      " [7.]]\n"
     ]
    }
   ],
   "source": [
    "# Create and solve the relevant system of equations\n",
    "# Day 1\n",
    "A = np.matrix([[29, 41], [23, 41]])\n",
    "print(A)\n",
    "B = np.matrix([490, 448])\n",
    "print(B)\n",
    "A_inv = np.linalg.inv(A)\n",
    "print(A_inv)\n",
    "x = A_inv.dot(B.T)\n",
    "print(x)"
   ]
  },
  {
   "cell_type": "code",
   "execution_count": null,
   "metadata": {},
   "outputs": [],
   "source": [
    "# Describe your result\n",
    "# Both the bags of coffee and tea cost $7"
   ]
  },
  {
   "cell_type": "markdown",
   "metadata": {},
   "source": [
    "## Exercise 2\n",
    "\n",
    "The cost of admission to a popular music concert was 162 dollars for 12 children and 3 adults. \n",
    "\n",
    "The admission was 122 dollars for 8 children and 3 adults in the same music concert. \n",
    "\n",
    "How much was the admission for each child and adult?"
   ]
  },
  {
   "cell_type": "code",
   "execution_count": 19,
   "metadata": {
    "ExecuteTime": {
     "end_time": "2020-08-04T19:26:21.130204Z",
     "start_time": "2020-08-04T19:26:21.124220Z"
    }
   },
   "outputs": [
    {
     "name": "stdout",
     "output_type": "stream",
     "text": [
      "[[12  3]\n",
      " [ 8  3]]\n",
      "[[162 122]]\n",
      "[[ 0.25       -0.25      ]\n",
      " [-0.66666667  1.        ]]\n",
      "[[10.]\n",
      " [14.]]\n"
     ]
    }
   ],
   "source": [
    "# Create and solve the relevant system of equations\n",
    "A = np.matrix([[12, 3], [8, 3]])\n",
    "print(A)\n",
    "B = np.matrix([162, 122])\n",
    "print(B)\n",
    "\n",
    "A_inv = np.linalg.inv(A)\n",
    "print(A_inv)\n",
    "\n",
    "x = A_inv.dot(B.T)\n",
    "print(x)"
   ]
  },
  {
   "cell_type": "code",
   "execution_count": 16,
   "metadata": {
    "ExecuteTime": {
     "end_time": "2020-08-04T18:59:39.715061Z",
     "start_time": "2020-08-04T18:59:39.711072Z"
    }
   },
   "outputs": [],
   "source": [
    "# Describe your result\n",
    "# The cost for childrens tickets is $10, and $14 for adults!"
   ]
  },
  {
   "cell_type": "markdown",
   "metadata": {},
   "source": [
    "## Exercise 3\n",
    "\n",
    "You want to make a soup containing tomatoes, carrots, and onions.\n",
    "\n",
    "Suppose you don't know the exact mix to put in, but you know there are 7 individual pieces of vegetables, and there are twice as many tomatoes as onions, and that the 7 pieces of vegetables cost 5.25 USD in total. \n",
    "You also know that onions cost 0.5 USD each, tomatoes cost 0.75 USD and carrots cost 1.25 USD each.\n",
    "\n",
    "Create a system of equations to find out exactly how many of each of the vegetables are in your soup."
   ]
  },
  {
   "cell_type": "code",
   "execution_count": 28,
   "metadata": {
    "ExecuteTime": {
     "end_time": "2020-08-04T19:52:09.688961Z",
     "start_time": "2020-08-04T19:52:09.680766Z"
    }
   },
   "outputs": [
    {
     "name": "stdout",
     "output_type": "stream",
     "text": [
      "[[ 1.    1.    1.  ]\n",
      " [ 0.5   0.75  1.25]\n",
      " [ 2.   -1.    0.  ]]\n",
      "[[7.   5.25 0.  ]]\n",
      "[[ 0.71428571 -0.57142857  0.28571429]\n",
      " [ 1.42857143 -1.14285714 -0.42857143]\n",
      " [-1.14285714  1.71428571  0.14285714]]\n",
      "[[2.]\n",
      " [4.]\n",
      " [1.]]\n"
     ]
    }
   ],
   "source": [
    "# Create and solve the relevant system of equations\n",
    "# t = tomatoes, c = carrots, o = onions\n",
    "# o + t + c = 7\n",
    "# $0.5o + $0.75t + $1.25c = $5.25\n",
    "# t = 2o --> 2o - t + 0c = 0\n",
    "#\n",
    "#\n",
    "A = np.matrix([[1, 1, 1], [0.5, 0.75, 1.25], [2, -1, 0]])\n",
    "print(A)\n",
    "B = np.matrix([7, 5.25, 0])\n",
    "print(B)\n",
    "\n",
    "A_inv = np.linalg.inv(A)\n",
    "print(A_inv)\n",
    "\n",
    "x = A_inv.dot(B.T)\n",
    "print(x)"
   ]
  },
  {
   "cell_type": "code",
   "execution_count": 29,
   "metadata": {
    "ExecuteTime": {
     "end_time": "2020-08-04T19:52:29.934865Z",
     "start_time": "2020-08-04T19:52:29.927267Z"
    }
   },
   "outputs": [],
   "source": [
    "# Describe your result\n",
    "# There are 2 onions, 4 tomatoes, and 1 carrot!"
   ]
  },
  {
   "cell_type": "markdown",
   "metadata": {},
   "source": [
    "## Exercise 4\n",
    "\n",
    "A landlord owns 3 properties: a 1-bedroom, a 2-bedroom, and a 3-bedroom house. \n",
    "\n",
    "The total rent he receives is 1240 USD. \n",
    "\n",
    "He needs to make some repairs, where those repairs cost 10% of the 1-bedroom house’s rent. The 2-bedroom repairs cost 20% of the 2-bedroom rental price and 30% of the 3-bedroom house's rent for its repairs.  The total repair bill for all three houses was 276 USD. \n",
    "\n",
    "The 3-bedroom house's rent is twice the 1-bedroom house’s rent. \n",
    "\n",
    "How much is the individual rent for three houses?"
   ]
  },
  {
   "cell_type": "code",
   "execution_count": 20,
   "metadata": {
    "ExecuteTime": {
     "end_time": "2020-08-04T19:45:55.527470Z",
     "start_time": "2020-08-04T19:45:55.519895Z"
    }
   },
   "outputs": [
    {
     "name": "stdout",
     "output_type": "stream",
     "text": [
      "[[ 1.   1.   1. ]\n",
      " [ 0.1  0.2  0.3]\n",
      " [ 2.   0.  -1. ]]\n",
      "[[1240  276    0]]\n",
      "[[ -2.  10.   1.]\n",
      " [  7. -30.  -2.]\n",
      " [ -4.  20.   1.]]\n",
      "[[280.]\n",
      " [400.]\n",
      " [560.]]\n"
     ]
    }
   ],
   "source": [
    "# Create and solve the relevant system of equations\n",
    "# x = 1bed, y = 2bed, z = 3 bed\n",
    "# x + y + z = $1240\n",
    "# 0.1x + 0.2y + 0.3z = $276\n",
    "# z = 2x -> 2x + 0y - z = 0\n",
    "\n",
    "A = np.matrix([[1, 1, 1], [0.1, 0.2, 0.3], [2, 0, -1]])\n",
    "print(A)\n",
    "B = np.matrix([1240, 276, 0])\n",
    "print(B)\n",
    "A_inv = np.linalg.inv(A)\n",
    "print(A_inv)\n",
    "x = A_inv.dot(B.T)\n",
    "print(x)"
   ]
  },
  {
   "cell_type": "code",
   "execution_count": 30,
   "metadata": {
    "ExecuteTime": {
     "end_time": "2020-08-04T19:53:01.244027Z",
     "start_time": "2020-08-04T19:53:01.240356Z"
    }
   },
   "outputs": [],
   "source": [
    "# Describe your result\n",
    "# The 1-bed is $280, 2-bed is $400, and 3-bed is $560!"
   ]
  },
  {
   "cell_type": "markdown",
   "metadata": {},
   "source": [
    "## Summary\n",
    "In this lab, you learned how to use NumPy to solve linear equations by taking inverses and matrix multiplication and also using numpy's `solve()` function. You'll now take these skills forward and see how you can define a simple regression problem using linear algebra and solve it with Numpy. "
   ]
  }
 ],
 "metadata": {
  "kernelspec": {
   "display_name": "Python 3",
   "language": "python",
   "name": "python3"
  },
  "language_info": {
   "codemirror_mode": {
    "name": "ipython",
    "version": 3
   },
   "file_extension": ".py",
   "mimetype": "text/x-python",
   "name": "python",
   "nbconvert_exporter": "python",
   "pygments_lexer": "ipython3",
   "version": "3.6.6"
  },
  "toc": {
   "base_numbering": 1,
   "nav_menu": {},
   "number_sections": true,
   "sideBar": true,
   "skip_h1_title": false,
   "title_cell": "Table of Contents",
   "title_sidebar": "Contents",
   "toc_cell": false,
   "toc_position": {},
   "toc_section_display": true,
   "toc_window_display": false
  },
  "varInspector": {
   "cols": {
    "lenName": 16,
    "lenType": 16,
    "lenVar": 40
   },
   "kernels_config": {
    "python": {
     "delete_cmd_postfix": "",
     "delete_cmd_prefix": "del ",
     "library": "var_list.py",
     "varRefreshCmd": "print(var_dic_list())"
    },
    "r": {
     "delete_cmd_postfix": ") ",
     "delete_cmd_prefix": "rm(",
     "library": "var_list.r",
     "varRefreshCmd": "cat(var_dic_list()) "
    }
   },
   "types_to_exclude": [
    "module",
    "function",
    "builtin_function_or_method",
    "instance",
    "_Feature"
   ],
   "window_display": false
  }
 },
 "nbformat": 4,
 "nbformat_minor": 2
}
